{
 "cells": [
  {
   "cell_type": "code",
   "execution_count": null,
   "metadata": {},
   "outputs": [],
   "source": [
    "print(\"Hello world\")\n",
    "print(\"Hey\")\n"
   ]
  },
  {
   "cell_type": "code",
   "execution_count": null,
   "metadata": {},
   "outputs": [],
   "source": [
    "if __name__ == '__main__':\n",
    "    x = int(input())\n",
    "    y = int(input())\n",
    "    z = int(input())\n",
    "    n = int(input())\n",
    "    print ([ [ i, j, k] for i in range( x + 1) for j in range( y + 1) for k in range(z+1) if ( ( i + j+k ) != n )])\n",
    "    \n",
    "    "
   ]
  },
  {
   "cell_type": "code",
   "execution_count": null,
   "metadata": {},
   "outputs": [],
   "source": [
    "a = 5\n",
    "print ([[a, b, a * b] for b in range(1, 11)] )"
   ]
  },
  {
   "cell_type": "code",
   "execution_count": null,
   "metadata": {},
   "outputs": [],
   "source": [
    "noprimes = [j for i in range(2, 8) for j in range(i*2, 500, i)] \n",
    "primes = [x for x in range(2, 500) if x not in noprimes] \n",
    "print (primes)\n",
    "primes.remove"
   ]
  },
  {
   "cell_type": "code",
   "execution_count": null,
   "metadata": {},
   "outputs": [],
   "source": [
    "if __name__ == '__main__':\n",
    "    n = 7\n",
    "    arr = [5 ,8,6,4,10,10,10]\n",
    "    print(max(arr))\n",
    "    arr.sort()\n",
    "    arr.reverse()\n",
    "   # print(arr)\n",
    "    #print(arr[-1])\n",
    "    #n=arr.count(arr[-1])\n",
    "    #print(n)\n",
    "    print(arr[arr.count(arr[0])])\n",
    "   # print(arr[max(arr))"
   ]
  },
  {
   "cell_type": "code",
   "execution_count": null,
   "metadata": {},
   "outputs": [],
   "source": [
    "if __name__ == '__main__':\n",
    "\n",
    "    m=[['Harry', 37.21], ['Berry', 37.21], ['Tina', 37.2], ['Akriti', 41], ['Harsh', 39]]\n",
    "#     for _ in range(int(input())):\n",
    "#         name = input()\n",
    "#         score = float(input())\n",
    "#         m.append([name,score])\n",
    "        \n",
    "    m.sort(key=lambda x: x[0],)\n",
    "    \n",
    "    st = set([el[1] for el in m])\n",
    "    st.remove(min(st))\n",
    "    print(st)\n",
    "    for i in m:\n",
    "        if i[1]==min(st):\n",
    "            print(i[0])\n",
    "  \n",
    "    \n",
    "   "
   ]
  },
  {
   "cell_type": "code",
   "execution_count": null,
   "metadata": {},
   "outputs": [],
   "source": [
    "if __name__ == '__main__':\n",
    "    n = int(input())\n",
    "    student_marks = {}\n",
    "    for _ in range(n):\n",
    "        name, *line = input().strip().split()\n",
    "        scores = list(map(float, line))\n",
    "        student_marks[name] = scores\n",
    "    query_name = input()\n",
    "    m=student_marks[query_name]\n",
    "    total_marks=0\n",
    "    for i in m:\n",
    "        total_marks=total_marks+i\n",
    "    print(total_marks/len(m))\n"
   ]
  },
  {
   "cell_type": "code",
   "execution_count": null,
   "metadata": {},
   "outputs": [],
   "source": [
    "a = list(map(int,input(\"\\nEnter the numbers : \").strip().split()))[:n] \n",
    "  \n",
    "print(\"\\nList is - \", a) "
   ]
  },
  {
   "cell_type": "code",
   "execution_count": null,
   "metadata": {},
   "outputs": [],
   "source": [
    "if __name__ == '__main__':\n",
    "    N = int(input())\n",
    "    list_=list()\n",
    "    for i in range(0,N):\n",
    "        command=input().split()\n",
    "        if command[0]=='insert':\n",
    "            list_.insert(int(command[1]),int(command[2]))\n",
    "        elif command[0]=='print':\n",
    "            print(list_)\n",
    "        elif command[0]=='remove':\n",
    "            list_.remove(int(command[1]))\n",
    "        elif command[0]=='append':\n",
    "            list_.append(int(command[1]))\n",
    "        elif command[0]=='sort':\n",
    "            list_.sort()\n",
    "        elif command[0]=='pop':\n",
    "            list_.pop()\n",
    "        elif command[0]=='reverse':\n",
    "            list_.reverse()"
   ]
  },
  {
   "cell_type": "code",
   "execution_count": null,
   "metadata": {},
   "outputs": [],
   "source": [
    "str_in=input()\n",
    "l=list()\n",
    "l.extend(str_in)\n",
    "even_digit=list()\n",
    "U_letter=list()\n",
    "L_letter=list()\n",
    "odd=list()\n",
    "\n",
    "for i in l:\n",
    "    \n",
    "    if i.isupper():\n",
    "        U_letter.append(i)\n",
    "    elif i.islower():\n",
    "        L_letter.append(i)\n",
    "    elif int(i)%2==0:\n",
    "        even_digit.append(i)\n",
    "    else:\n",
    "        odd.append(i)\n",
    "U_letter.sort()\n",
    "L_letter.sort()\n",
    "odd.sort()\n",
    "even_digit.sort()\n",
    "s=L_letter+U_letter+odd+even_digit\n",
    "ls=''.join(map(str, s))\n",
    "print(ls)"
   ]
  },
  {
   "cell_type": "code",
   "execution_count": null,
   "metadata": {},
   "outputs": [],
   "source": [
    "class Comp(object):\n",
    "    def __init__(self, real, imaginary):\n",
    "        self.real=real\n",
    "        self.imaginary=imaginary  \n",
    "    def __add__(self, no):\n",
    "        return complex(self.real+no.real,self.imaginary+no.imaginary)\n",
    "    def __sub__(self, no):\n",
    "        return complex(self.real-no.real,self.imaginary-no.imaginary)    \n",
    "    def __mul__(self, no):\n",
    "        return complex(self.real,self.imaginary)*complex(no.real,no.imaginary)\n",
    "    def __truediv__(self, no):\n",
    "        try: \n",
    "            real_numerator = self.real * no.real + self.imaginary * no.imaginary\n",
    "            imag_numerator = self.imaginary * no.real - self.real * no.imaginary\n",
    "            denom = no.real**2 + no.imaginary**2\n",
    "            real_div = real_numerator / denom\n",
    "            imag_div = imag_numerator / denom\n",
    "            return complex(real_div,imag_div)\n",
    "        except ZeroDivisionError as e:\n",
    "            print (e)\n",
    "            return None\n",
    "    def mod(self):\n",
    "         return complex(pow(self.real**2+self.imaginary**2, 0.5), 0)\n",
    "\n",
    "if __name__ == '__main__':\n",
    "    cr,ci=map(float,input().split())\n",
    "    dr,di=map(float,input().split())\n",
    "    C=Comp(cr,ci)\n",
    "    D= Comp(dr,di) \n",
    "    print (C+D)\n",
    "    print(C-D)\n",
    "    print(C*D)\n",
    "    print(C/D)\n",
    "    print(C.mod())\n",
    "    print(D.mod())\n",
    "\n",
    "    "
   ]
  },
  {
   "cell_type": "code",
   "execution_count": null,
   "metadata": {},
   "outputs": [],
   "source": [
    "import math\n",
    "\n",
    "class Complex(object):\n",
    "    def __init__(self, real, imaginary):\n",
    "        self.real=real\n",
    "        self.imaginary=imaginary  \n",
    "    def __add__(self, no):\n",
    "        return Complex(self.real+no.real,self.imaginary+no.imaginary).__str__()\n",
    "    def __sub__(self, no):\n",
    "        return Complex(self.real-no.real,self.imaginary-no.imaginary).__str__()    \n",
    "    def __mul__(self, no):\n",
    "        \n",
    "        r=complex(self.real,self.imaginary)*complex(no.real,no.imaginary)\n",
    "        return Complex(r.real,r.imag).__str__()\n",
    "    def __truediv__(self, no):\n",
    "        try: \n",
    "            real_numerator = self.real * no.real + self.imaginary * no.imaginary\n",
    "            imag_numerator = self.imaginary * no.real - self.real * no.imaginary\n",
    "            denom = no.real**2 + no.imaginary**2\n",
    "            real_div = real_numerator / denom\n",
    "            imag_div = imag_numerator / denom\n",
    "            return Complex(real_div,imag_div).__str__()\n",
    "        except ZeroDivisionError as e:\n",
    "            print (e)\n",
    "            return None\n",
    "    def mod(self):\n",
    "         return Complex(pow(self.real**2+self.imaginary**2, 0.5), 0).__str__()\n",
    "\n",
    "    def __str__(self):\n",
    "        if self.imaginary == 0:\n",
    "            result = \"%.2f+0.00i\" % (self.real)\n",
    "        elif self.real == 0:\n",
    "            if self.imaginary >= 0:\n",
    "                result = \"0.00+%.2fi\" % (self.imaginary)\n",
    "            else:\n",
    "                result = \"0.00-%.2fi\" % (abs(self.imaginary))\n",
    "        elif self.imaginary > 0:\n",
    "            result = \"%.2f+%.2fi\" % (self.real, self.imaginary)\n",
    "        else:\n",
    "            result = \"%.2f-%.2fi\" % (self.real, abs(self.imaginary))\n",
    "        return result\n",
    "\n",
    "if __name__ == '__main__':\n",
    "    c = map(float, input().split())\n",
    "    d = map(float, input().split())\n",
    "    x = Complex(*c)\n",
    "    y = Complex(*d)\n",
    "    print(*map(str, [x+y, x-y, x*y, x/y, x.mod(), y.mod()]), sep='\\n')"
   ]
  },
  {
   "cell_type": "code",
   "execution_count": null,
   "metadata": {},
   "outputs": [],
   "source": [
    "import math\n",
    "\n",
    "class Points(object):\n",
    "    def __init__(self, x, y, z):\n",
    "        self.x=x\n",
    "        self.y=y\n",
    "        self.z=z\n",
    "\n",
    "    def __sub__(self, no):\n",
    "        return Points(self.x-no.x,self.y-no.y,self.z-no.z)\n",
    "\n",
    "    def dot(self, no):\n",
    "        return (self.x*no.x)+(self.y*no.y)+(self.z*no.z)\n",
    "\n",
    "    def cross(self, no):\n",
    "        return Points((self.y*no.z-self.z*no.y),(self.z*no.x-self.x*no.z),(self.x*no.y-self.y*no.x))\n",
    "        \n",
    "    def absolute(self):\n",
    "        return pow((self.x ** 2 + self.y ** 2 + self.z ** 2), 0.5)\n",
    "\n",
    "if __name__ == '__main__':\n",
    "    points = list()\n",
    "    for i in range(4):\n",
    "        a = list(map(float, input().split()))\n",
    "        points.append(a)\n",
    "\n",
    "    a, b, c, d = Points(*points[0]), Points(*points[1]), Points(*points[2]), Points(*points[3])\n",
    "    x = (b - a).cross(c - b)\n",
    "    y = (c - b).cross(d - c)\n",
    "    angle = math.acos(x.dot(y) / (x.absolute() * y.absolute()))\n",
    "\n",
    "    print(\"%.2f\" % math.degrees(angle))"
   ]
  },
  {
   "cell_type": "code",
   "execution_count": null,
   "metadata": {},
   "outputs": [],
   "source": [
    "#!/bin/python3\n",
    "\n",
    "\n",
    "\n",
    "if __name__ == '__main__':\n",
    "    s = input()\n",
    "    d= {}\n",
    "    d=d.fromkeys(set(s))\n",
    "    for each in d:\n",
    "        d[each]=s.count(each)\n",
    "    d={k: v for k, v in sorted(d.items(), key=lambda item: item[0],reverse= False)}\n",
    "    d={k: v for k, v in sorted(d.items(), key=lambda item: item[1],reverse= True)}\n",
    "    print(d) \n",
    "    for i in list(d.keys())[0:5]:\n",
    "        print(i,d[i])\n",
    "        \n",
    "#     l=[list(d.keys())[0]]\n",
    "#     count=0\n",
    "#     for i in list(d.keys())[1:5]:\n",
    "#         if d[i]==d[l[-1]]:\n",
    "#             l.append(i)\n",
    "#         else:\n",
    "#             l.sort()\n",
    "#             for each in l:\n",
    "#                 print(each,d[each])\n",
    "#                 count+=1\n",
    "#             l=[i]\n",
    "#     if count<5:\n",
    "#         l.sort()\n",
    "#         for each in l:\n",
    "#             print(each,d[each])\n",
    "    \n",
    "            \n",
    "            \n",
    "    \n",
    "\n",
    "    \n",
    "        \n",
    "        \n",
    "    "
   ]
  },
  {
   "cell_type": "code",
   "execution_count": null,
   "metadata": {},
   "outputs": [],
   "source": [
    "s= input()\n",
    "s_new=\"\"\n",
    "for l in s:\n",
    "    if l.isupper():\n",
    "        s_new+=l.lower()\n",
    "    else:\n",
    "        s_new+=l.upper()\n",
    "print(s_new)"
   ]
  },
  {
   "cell_type": "code",
   "execution_count": null,
   "metadata": {},
   "outputs": [],
   "source": [
    "def count_substring(string, sub_string):\n",
    "    #string.count(sub_string)\n",
    "    ss_len=len(sub_string)\n",
    "    count=0\n",
    "    for i in range(len(string)-ss_len+1):\n",
    "        print(string[i:i+ss_len])\n",
    "        if string[i:i+ss_len]==sub_string:\n",
    "            count+=1\n",
    "        \n",
    "    return count\n",
    "\n",
    "if __name__ == '__main__':\n",
    "    string = input().strip()\n",
    "    sub_string = input().strip()\n",
    "    \n",
    "    count = count_substring(string, sub_string)\n",
    "    print(count)"
   ]
  },
  {
   "cell_type": "code",
   "execution_count": null,
   "metadata": {},
   "outputs": [],
   "source": [
    "s=input()\n",
    "alnum=alpha=num=low=up=False\n",
    "for l in s:\n",
    "    if l.isalnum():\n",
    "        alnum=True\n",
    "        if l.isalpha():\n",
    "            alpha=True\n",
    "            if l.isupper():\n",
    "                up=True\n",
    "            else:\n",
    "                low=True\n",
    "        else:\n",
    "            num=True\n",
    "    if alnum==alpha==num==low==up==True:\n",
    "        break\n",
    "print(alnum)\n",
    "print(alpha)\n",
    "print(num)\n",
    "print(low)\n",
    "print(up)"
   ]
  },
  {
   "cell_type": "code",
   "execution_count": null,
   "metadata": {},
   "outputs": [],
   "source": [
    "#Replace all ______ with rjust, ljust or center. \n",
    "\n",
    "thickness = int(input()) #This must be an odd number\n",
    "c = 'H'\n",
    "\n",
    "#Top Cone\n",
    "for i in range(thickness):\n",
    "    print((c*i).rjust(thickness-1)+c+(c*i).ljust(thickness-1))\n",
    "\n",
    "#Top Pillars\n",
    "for i in range(thickness+1):\n",
    "    print((c*thickness).center(thickness*2)+(c*thickness).center(thickness*6))\n",
    "\n",
    "# #Middle Belt\n",
    "for i in range((thickness+1)//2):\n",
    "    print((c*thickness*5).center(thickness*6))    \n",
    "\n",
    "#Bottom Pillars\n",
    "for i in range(thickness+1):\n",
    "    print((c*thickness).center(thickness*2)+(c*thickness).center(thickness*6))    \n",
    "\n",
    "#Bottom Cone\n",
    "for i in range(thickness):\n",
    "    print(((c*(thickness-i-1)).rjust(thickness)+c+(c*(thickness-i-1)).ljust(thickness)).rjust(thickness*6))\n",
    "\n"
   ]
  },
  {
   "cell_type": "code",
   "execution_count": null,
   "metadata": {},
   "outputs": [],
   "source": [
    "n,m= map(int,input().split())\n",
    "c=\".|.\"\n",
    "for i in range(int(n/2)):\n",
    "    print((c*(i*2+1)).center(m,\"-\"))\n",
    "print(\"WLCOME\".center(m,\"-\"))\n",
    "for i in range(int(n/2)):\n",
    "    i=int(n/2)-i-1\n",
    "    print((c*(i*2+1)).center(m,\"-\"))"
   ]
  },
  {
   "cell_type": "code",
   "execution_count": null,
   "metadata": {},
   "outputs": [],
   "source": [
    "n= int(input())\n",
    "w=len(\"{0:b}\".format(n))\n",
    "for i in range(1,n+1):\n",
    "    print(\"{0:{width}d} {0:{width}o} {0:{width}X} {0:{width}b}\".format(i,width=w))\n",
    "    #print(\"{}\".format(i).rjust(w)+ \"{0:o}\".format(i).rjust(w) +\"{0:X}\".format(i).rjust(w) +\"{0:b}\".format(i).rjust(w), sep=' ')"
   ]
  },
  {
   "cell_type": "code",
   "execution_count": null,
   "metadata": {},
   "outputs": [],
   "source": [
    "n = int(input())\n",
    "w = len(\"{0:b}\".format(n))\n",
    "for i in range(1,n+1):\n",
    "      print (\"{0:{width}d} {0:{width}o} {0:{width}X} {0:{width}b}\".format(i, width=w))"
   ]
  },
  {
   "cell_type": "code",
   "execution_count": null,
   "metadata": {},
   "outputs": [],
   "source": [
    "n=1\n",
    "w=n*4-3\n",
    "alpha=[chr(x) for x in range(ord('a')+n-1,ord('a')-1,-1)]\n",
    "for i in range(n):\n",
    "    s1='-'.join(map(str, alpha[:i+1]))\n",
    "    s2='-'.join(map(str, reversed(alpha[:i])))\n",
    "    if len(s2)!=0:\n",
    "        s1=s1+\"-\"+s2\n",
    "    print((s1).center(w,\"-\"))\n",
    "for i in range(n-1,0,-1):\n",
    "    s1='-'.join(map(str, alpha[:i]))\n",
    "    s2='-'.join(map(str, reversed(alpha[:i-1])))\n",
    "    if len(s2)!=0:\n",
    "        s1=s1+\"-\"+s2      \n",
    "    print((s1).center(w,\"-\"))"
   ]
  },
  {
   "cell_type": "code",
   "execution_count": null,
   "metadata": {},
   "outputs": [],
   "source": [
    "for i in range('a','d' ):\n",
    "    print()"
   ]
  },
  {
   "cell_type": "code",
   "execution_count": null,
   "metadata": {},
   "outputs": [],
   "source": [
    "\n",
    "s= input()\n",
    "sl=list()\n",
    "sl.extend(s)\n",
    "sl[0]=sl[0].upper()\n",
    "print(sl)\n",
    "# sn=s[0].capitalize()\n",
    "for i in range(len(sl)):\n",
    "    if sl[i].isspace():\n",
    "        sl[i+1]=sl[i+1].upper()\n",
    "print(\"\".join(sl))\n",
    "    \n",
    "# s\n",
    "# s=[x.capitalize() for x in s]\n",
    "# print( \" \".join(s))\n",
    "\n"
   ]
  },
  {
   "cell_type": "code",
   "execution_count": null,
   "metadata": {},
   "outputs": [],
   "source": [
    "def minion_game(string):\n",
    "    vowels=\"AEIOU\"\n",
    "    score_s=0\n",
    "    score_k=0\n",
    "    for i in range(len(string)+1):\n",
    "        #print(string[:i])\n",
    "        if s[i] in vowels:\n",
    "            score_k += (len(s)-i)\n",
    "        else:\n",
    "            score_s += (len(s)-i)\n",
    "    if  score_s==score_k:\n",
    "        print(\"Draw\")\n",
    "    elif score_s>score_k:\n",
    "        print(\"Stuart\",score_s)\n",
    "    else:\n",
    "        print(\"Kevin\",score_k)\n",
    "\n",
    "if __name__ == '__main__':\n",
    "    s = input()\n",
    "    minion_game(s)"
   ]
  },
  {
   "cell_type": "code",
   "execution_count": null,
   "metadata": {},
   "outputs": [],
   "source": [
    "s = raw_input()\n",
    "\n",
    "vowels = 'AEIOU'\n",
    "\n",
    "kevsc = 0\n",
    "stusc = 0\n",
    "for i in range(len(s)):\n",
    "    if s[i] in vowels:\n",
    "        kevsc += (len(s)-i)\n",
    "    else:\n",
    "        stusc += (len(s)-i)\n",
    "\n",
    "if kevsc > stusc:\n",
    "    print \"Kevin\", kevsc\n",
    "elif kevsc < stusc:\n",
    "    print \"Stuart\", stusc\n",
    "else:\n",
    "    print \"Draw\""
   ]
  },
  {
   "cell_type": "code",
   "execution_count": null,
   "metadata": {},
   "outputs": [],
   "source": [
    "def merge_the_tools(string, k):\n",
    "    # your code goes here\n",
    "    for i in range(0,len(string),k):\n",
    "        s=''\n",
    "        for i1 in range(k):\n",
    "            \n",
    "            if string[i1+i] not in s:\n",
    "                s+=string[i1+i]\n",
    "        print(s)\n",
    "if __name__ == '__main__':\n",
    "    string, k = input(), int(input())\n",
    "    merge_the_tools(string, k)"
   ]
  },
  {
   "cell_type": "code",
   "execution_count": null,
   "metadata": {},
   "outputs": [],
   "source": []
  },
  {
   "cell_type": "code",
   "execution_count": null,
   "metadata": {},
   "outputs": [],
   "source": []
  },
  {
   "cell_type": "code",
   "execution_count": null,
   "metadata": {},
   "outputs": [],
   "source": [
    "# Enter your code here. Read input from STDIN. Print output to STDOUT\n",
    "n=int(input())\n",
    "nos=list(map(int,input().split()))\n",
    "nos.sort()\n",
    "print(round((sum(nos)/n),1))\n",
    "if n%2==0:\n",
    "    print(\"{0:.1f}\".format(sum(nos[int(n/2-1):int(n/2+1)])/2))\n",
    "else:\n",
    "    print(round(nos[int(n/2)],2))\n",
    "count=0\n",
    "mods=[]\n",
    "for i in nos:\n",
    "    if nos.count(i)==count:\n",
    "        mods.append(i)\n",
    "    elif nos.count(i)>count:\n",
    "        count=nos.count(i)\n",
    "        mods.clear()\n",
    "        mods.append(i)\n",
    "print(min(mods))\n"
   ]
  },
  {
   "cell_type": "code",
   "execution_count": null,
   "metadata": {},
   "outputs": [],
   "source": [
    "n=int(input())\n",
    "nos=list(map(int,input().split()))[:n]\n",
    "wt=list(map(int,input().split()))[:n]\n",
    "print(round((sum([nos[i]*wt[i] for i in range(n) ])/sum(wt)),1))"
   ]
  },
  {
   "cell_type": "code",
   "execution_count": null,
   "metadata": {},
   "outputs": [],
   "source": [
    "def median(noList):\n",
    "    n=len(noList)\n",
    "    if len(noList)%2==0:\n",
    "        return int(sum(noList[int(n/2-1):int(n/2+1)])/2)\n",
    "    else:\n",
    "        return int(noList[int(n/2)])\n",
    "n=int(input())\n",
    "nos=list(map(int,input().split()))[:n]\n",
    "nos.sort()\n",
    "print(nos)\n",
    "if n%2==0:\n",
    "    \n",
    "    print(median(nos[:int(n/2)]),median(nos),median(nos[int(n/2):]),sep='\\n')\n",
    "else:\n",
    "                 \n",
    "    print(median(nos[:int(n/2)]),median(nos),median(nos[int(n/2)+1:]),sep='\\n')\n",
    "    "
   ]
  },
  {
   "cell_type": "code",
   "execution_count": null,
   "metadata": {},
   "outputs": [],
   "source": [
    "n=int(input())\n",
    "nos=list(map(int,input().split()))[:n]\n",
    "mean=sum(nos)/n\n",
    "print(\"{0:.1f}\".format((sum([(x-mean)**2 for x in nos])/n)**(1/2)))\n"
   ]
  },
  {
   "cell_type": "code",
   "execution_count": null,
   "metadata": {},
   "outputs": [],
   "source": [
    "def median(noList):\n",
    "    n=len(noList)\n",
    "    if len(noList)%2==0:\n",
    "        return int(sum(noList[int(n/2-1):int(n/2+1)])/2)\n",
    "    else:\n",
    "        return int(noList[int(n/2)])\n",
    "n=int(input())\n",
    "nos=list(map(int,input().split()))[:n]\n",
    "freq=list(map(int,input().split()))[:n]\n",
    "for i in range(n):\n",
    "    for j in range(freq[i]-1):\n",
    "        nos.append(nos[i])   \n",
    "nos.sort()\n",
    "n=len(nos)\n",
    "if n%2==0:\n",
    "    print(\"{0:.1f}\".format(median(nos[int(n/2):])-median(nos[:int(n/2)])))\n",
    "else:             \n",
    "    print(\"{0:.1f}\".format(median(nos[int(n/2)+1:])-median(nos[:int(n/2)])))\n",
    "    "
   ]
  },
  {
   "cell_type": "code",
   "execution_count": null,
   "metadata": {},
   "outputs": [],
   "source": [
    "import itertools\n",
    "s1=list(map(int,input().split()))\n",
    "s2=list(map(int,input().split()))\n",
    "for x in itertools.product(s1,s2):\n",
    "    print(x,end=\" \") \n"
   ]
  },
  {
   "cell_type": "code",
   "execution_count": null,
   "metadata": {},
   "outputs": [],
   "source": [
    "import itertools\n",
    "s,n=input().split()\n",
    "n=int(n)\n",
    "p=[]\n",
    "for x in itertools.permutations(s,n):\n",
    "    p.append(\"\".join(x))\n",
    "p.sort()\n",
    "print(*p,sep='\\n')\n"
   ]
  },
  {
   "cell_type": "code",
   "execution_count": null,
   "metadata": {},
   "outputs": [],
   "source": [
    "import itertools  \n",
    "s,n = input().split()\n",
    "print(*[''.join(i) for n1 in range(1,int(n)+1) for i in itertools.combinations(sorted(s),int(n1))],sep='\\n')"
   ]
  },
  {
   "cell_type": "code",
   "execution_count": null,
   "metadata": {},
   "outputs": [],
   "source": [
    "import itertools  \n",
    "s,n = input().split()\n",
    "print(*[''.join(i)  for i in itertools.combinations_with_replacement(sorted(s),int(n))],sep='\\n')"
   ]
  },
  {
   "cell_type": "code",
   "execution_count": 12,
   "metadata": {},
   "outputs": [
    {
     "name": "stdout",
     "output_type": "stream",
     "text": [
      "222334454421111\n",
      "(3, 2) (2, 3) (2, 4) (1, 5) (2, 4) (1, 2) (4, 1) "
     ]
    }
   ],
   "source": [
    "import itertools  \n",
    "s = input()\n",
    "i=0\n",
    "while i<len(s):\n",
    "    count=len(list(itertools.takewhile(lambda x:x==s[i] ,s[i:])))\n",
    "    print((count,int(s[i])),end=' ')\n",
    "    i+=count\n",
    "    \n",
    "\n",
    "# print([len(i) for i in s itertools.takewhile(lambda x:x==i ,s)])"
   ]
  },
  {
   "cell_type": "code",
   "execution_count": 1,
   "metadata": {},
   "outputs": [
    {
     "name": "stdout",
     "output_type": "stream",
     "text": [
      "5\n"
     ]
    }
   ],
   "source": [
    "string = \"geeks\" \n",
    "print(len(string)) "
   ]
  },
  {
   "cell_type": "code",
   "execution_count": 18,
   "metadata": {},
   "outputs": [
    {
     "ename": "AttributeError",
     "evalue": "'tuple' object has no attribute 'contain'",
     "output_type": "error",
     "traceback": [
      "\u001b[1;31m---------------------------------------------------------------------------\u001b[0m",
      "\u001b[1;31mAttributeError\u001b[0m                            Traceback (most recent call last)",
      "\u001b[1;32m<ipython-input-18-c2b1f3240c8d>\u001b[0m in \u001b[0;36m<module>\u001b[1;34m\u001b[0m\n\u001b[0;32m      5\u001b[0m \u001b[0ma\u001b[0m\u001b[1;33m=\u001b[0m\u001b[1;33m[\u001b[0m\u001b[0mi\u001b[0m\u001b[1;33m+\u001b[0m\u001b[1;36m1\u001b[0m \u001b[1;32mfor\u001b[0m \u001b[0mi\u001b[0m \u001b[1;32min\u001b[0m \u001b[0mrange\u001b[0m\u001b[1;33m(\u001b[0m\u001b[0mlen\u001b[0m\u001b[1;33m(\u001b[0m\u001b[0ms1\u001b[0m\u001b[1;33m)\u001b[0m\u001b[1;33m)\u001b[0m \u001b[1;32mif\u001b[0m \u001b[0ms1\u001b[0m\u001b[1;33m[\u001b[0m\u001b[0mi\u001b[0m\u001b[1;33m]\u001b[0m\u001b[1;33m==\u001b[0m\u001b[1;34m'a'\u001b[0m\u001b[1;33m]\u001b[0m\u001b[1;33m\u001b[0m\u001b[1;33m\u001b[0m\u001b[0m\n\u001b[0;32m      6\u001b[0m \u001b[0mn\u001b[0m\u001b[1;33m=\u001b[0m\u001b[1;36m2\u001b[0m\u001b[1;33m\u001b[0m\u001b[1;33m\u001b[0m\u001b[0m\n\u001b[1;32m----> 7\u001b[1;33m \u001b[0mprint\u001b[0m\u001b[1;33m(\u001b[0m\u001b[1;33m*\u001b[0m\u001b[1;33m[\u001b[0m\u001b[1;33m(\u001b[0m\u001b[0mi\u001b[0m\u001b[1;33m)\u001b[0m  \u001b[1;32mfor\u001b[0m \u001b[0mi\u001b[0m \u001b[1;32min\u001b[0m \u001b[0mitertools\u001b[0m\u001b[1;33m.\u001b[0m\u001b[0mcombinations\u001b[0m\u001b[1;33m(\u001b[0m\u001b[0msorted\u001b[0m\u001b[1;33m(\u001b[0m\u001b[0ms\u001b[0m\u001b[1;33m)\u001b[0m\u001b[1;33m,\u001b[0m\u001b[0mint\u001b[0m\u001b[1;33m(\u001b[0m\u001b[0mn\u001b[0m\u001b[1;33m)\u001b[0m\u001b[1;33m)\u001b[0m \u001b[1;32mif\u001b[0m \u001b[0mi\u001b[0m\u001b[1;33m.\u001b[0m\u001b[0mcontain\u001b[0m\u001b[1;33m(\u001b[0m\u001b[0ma\u001b[0m\u001b[1;33m)\u001b[0m\u001b[1;33m]\u001b[0m\u001b[1;33m,\u001b[0m\u001b[0msep\u001b[0m\u001b[1;33m=\u001b[0m\u001b[1;34m'\\n'\u001b[0m\u001b[1;33m)\u001b[0m\u001b[1;33m\u001b[0m\u001b[1;33m\u001b[0m\u001b[0m\n\u001b[0m",
      "\u001b[1;32m<ipython-input-18-c2b1f3240c8d>\u001b[0m in \u001b[0;36m<listcomp>\u001b[1;34m(.0)\u001b[0m\n\u001b[0;32m      5\u001b[0m \u001b[0ma\u001b[0m\u001b[1;33m=\u001b[0m\u001b[1;33m[\u001b[0m\u001b[0mi\u001b[0m\u001b[1;33m+\u001b[0m\u001b[1;36m1\u001b[0m \u001b[1;32mfor\u001b[0m \u001b[0mi\u001b[0m \u001b[1;32min\u001b[0m \u001b[0mrange\u001b[0m\u001b[1;33m(\u001b[0m\u001b[0mlen\u001b[0m\u001b[1;33m(\u001b[0m\u001b[0ms1\u001b[0m\u001b[1;33m)\u001b[0m\u001b[1;33m)\u001b[0m \u001b[1;32mif\u001b[0m \u001b[0ms1\u001b[0m\u001b[1;33m[\u001b[0m\u001b[0mi\u001b[0m\u001b[1;33m]\u001b[0m\u001b[1;33m==\u001b[0m\u001b[1;34m'a'\u001b[0m\u001b[1;33m]\u001b[0m\u001b[1;33m\u001b[0m\u001b[1;33m\u001b[0m\u001b[0m\n\u001b[0;32m      6\u001b[0m \u001b[0mn\u001b[0m\u001b[1;33m=\u001b[0m\u001b[1;36m2\u001b[0m\u001b[1;33m\u001b[0m\u001b[1;33m\u001b[0m\u001b[0m\n\u001b[1;32m----> 7\u001b[1;33m \u001b[0mprint\u001b[0m\u001b[1;33m(\u001b[0m\u001b[1;33m*\u001b[0m\u001b[1;33m[\u001b[0m\u001b[1;33m(\u001b[0m\u001b[0mi\u001b[0m\u001b[1;33m)\u001b[0m  \u001b[1;32mfor\u001b[0m \u001b[0mi\u001b[0m \u001b[1;32min\u001b[0m \u001b[0mitertools\u001b[0m\u001b[1;33m.\u001b[0m\u001b[0mcombinations\u001b[0m\u001b[1;33m(\u001b[0m\u001b[0msorted\u001b[0m\u001b[1;33m(\u001b[0m\u001b[0ms\u001b[0m\u001b[1;33m)\u001b[0m\u001b[1;33m,\u001b[0m\u001b[0mint\u001b[0m\u001b[1;33m(\u001b[0m\u001b[0mn\u001b[0m\u001b[1;33m)\u001b[0m\u001b[1;33m)\u001b[0m \u001b[1;32mif\u001b[0m \u001b[0mi\u001b[0m\u001b[1;33m.\u001b[0m\u001b[0mcontain\u001b[0m\u001b[1;33m(\u001b[0m\u001b[0ma\u001b[0m\u001b[1;33m)\u001b[0m\u001b[1;33m]\u001b[0m\u001b[1;33m,\u001b[0m\u001b[0msep\u001b[0m\u001b[1;33m=\u001b[0m\u001b[1;34m'\\n'\u001b[0m\u001b[1;33m)\u001b[0m\u001b[1;33m\u001b[0m\u001b[1;33m\u001b[0m\u001b[0m\n\u001b[0m",
      "\u001b[1;31mAttributeError\u001b[0m: 'tuple' object has no attribute 'contain'"
     ]
    }
   ],
   "source": [
    "import itertools  \n",
    "#s,n = input().split()\n",
    "s=[1,2,3,4,5,6]\n",
    "s1='acddsdads'\n",
    "a=[i+1 for i in range(len(s1)) if s1[i]=='a']\n",
    "n=2\n",
    "print(*[(i)  for i in itertools.combinations(sorted(s),int(n)) if i.contain(a)],sep='\\n')"
   ]
  },
  {
   "cell_type": "code",
   "execution_count": 9,
   "metadata": {},
   "outputs": [
    {
     "name": "stdout",
     "output_type": "stream",
     "text": [
      "3 1000\n",
      "2 5 4\n",
      "3 7 8 9\n",
      "5 5 7 8 9 10 \n",
      "206\n"
     ]
    }
   ],
   "source": [
    "k,mod=map(int,input().split())\n",
    "s=[]\n",
    "for i in range(k,2*k):\n",
    "    s1=list(map(int,input().split()))\n",
    "    s.append(s1[1:s1[0]+1])\n",
    "result=0\n",
    "for i in itertools.product(*s):\n",
    "    res=sum([n**2 for n in i])%mod\n",
    "    if res>result:\n",
    "        result=res\n",
    "print(result)"
   ]
  },
  {
   "cell_type": "code",
   "execution_count": 6,
   "metadata": {},
   "outputs": [
    {
     "name": "stdout",
     "output_type": "stream",
     "text": [
      "(5, 7, 1)\n",
      "(5, 7, 2)\n",
      "(5, 8, 1)\n",
      "(5, 8, 2)\n",
      "(5, 9, 1)\n",
      "(5, 9, 2)\n",
      "(4, 7, 1)\n",
      "(4, 7, 2)\n",
      "(4, 8, 1)\n",
      "(4, 8, 2)\n",
      "(4, 9, 1)\n",
      "(4, 9, 2)\n"
     ]
    }
   ],
   "source": [
    "import itertools\n",
    "a=[5,4]\n",
    "b=[7,8,9]\n",
    "c=[1,2]\n",
    "d=(a,b,c)\n",
    "for i in itertools.product(*d):\n",
    "    #for i1 in itertools.product(i,c):\n",
    "        print(i)\n",
    "#r= max([sum([i1**2 for i1 in i])%100 for i in itertools.product(a,b,c)])\n",
    "#print(r)"
   ]
  },
  {
   "cell_type": "code",
   "execution_count": 39,
   "metadata": {},
   "outputs": [
    {
     "data": {
      "text/plain": [
       "[1, 2, 3, 1, 2, 3]"
      ]
     },
     "execution_count": 39,
     "metadata": {},
     "output_type": "execute_result"
    }
   ],
   "source": [
    "[1,2,3]+[1,2,3]\n"
   ]
  },
  {
   "cell_type": "code",
   "execution_count": 38,
   "metadata": {},
   "outputs": [
    {
     "name": "stdout",
     "output_type": "stream",
     "text": [
      "3 123\n"
     ]
    }
   ],
   "source": [
    "x=[\"jnjn\",\"123\",\"jhdjhf\"]\n",
    "s=','.join(x)\n",
    "print(x[1][-1],x[-2])"
   ]
  },
  {
   "cell_type": "code",
   "execution_count": 14,
   "metadata": {},
   "outputs": [
    {
     "ename": "TypeError",
     "evalue": "'int' object is not iterable",
     "output_type": "error",
     "traceback": [
      "\u001b[1;31m---------------------------------------------------------------------------\u001b[0m",
      "\u001b[1;31mTypeError\u001b[0m                                 Traceback (most recent call last)",
      "\u001b[1;32m<ipython-input-14-a8f0eb3e5e3c>\u001b[0m in \u001b[0;36m<module>\u001b[1;34m\u001b[0m\n\u001b[0;32m      1\u001b[0m \u001b[0mX\u001b[0m\u001b[1;33m=\u001b[0m\u001b[1;36m1234\u001b[0m\u001b[1;33m\u001b[0m\u001b[1;33m\u001b[0m\u001b[0m\n\u001b[1;32m----> 2\u001b[1;33m \u001b[0mS\u001b[0m\u001b[1;33m=\u001b[0m\u001b[1;33m[\u001b[0m\u001b[0mi\u001b[0m \u001b[1;32mfor\u001b[0m \u001b[0mi\u001b[0m \u001b[1;32min\u001b[0m \u001b[0mX\u001b[0m\u001b[1;33m]\u001b[0m\u001b[1;33m\u001b[0m\u001b[1;33m\u001b[0m\u001b[0m\n\u001b[0m\u001b[0;32m      3\u001b[0m \u001b[0mprint\u001b[0m\u001b[1;33m(\u001b[0m\u001b[0mS\u001b[0m\u001b[1;33m)\u001b[0m\u001b[1;33m\u001b[0m\u001b[1;33m\u001b[0m\u001b[0m\n",
      "\u001b[1;31mTypeError\u001b[0m: 'int' object is not iterable"
     ]
    }
   ],
   "source": [
    "X=1234\n",
    "S=[i for i in X]\n",
    "print(S)"
   ]
  },
  {
   "cell_type": "code",
   "execution_count": 17,
   "metadata": {},
   "outputs": [
    {
     "ename": "NameError",
     "evalue": "name 'true' is not defined",
     "output_type": "error",
     "traceback": [
      "\u001b[1;31m---------------------------------------------------------------------------\u001b[0m",
      "\u001b[1;31mNameError\u001b[0m                                 Traceback (most recent call last)",
      "\u001b[1;32m<ipython-input-17-1bd2b8aae298>\u001b[0m in \u001b[0;36m<module>\u001b[1;34m\u001b[0m\n\u001b[1;32m----> 1\u001b[1;33m \u001b[0ma\u001b[0m\u001b[1;33m=\u001b[0m\u001b[0mtrue\u001b[0m\u001b[1;33m\u001b[0m\u001b[1;33m\u001b[0m\u001b[0m\n\u001b[0m\u001b[0;32m      2\u001b[0m \u001b[0mb\u001b[0m\u001b[1;33m=\u001b[0m\u001b[0mfalse\u001b[0m\u001b[1;33m\u001b[0m\u001b[1;33m\u001b[0m\u001b[0m\n\u001b[0;32m      3\u001b[0m \u001b[0mc\u001b[0m\u001b[1;33m=\u001b[0m\u001b[0mfalse\u001b[0m\u001b[1;33m\u001b[0m\u001b[1;33m\u001b[0m\u001b[0m\n\u001b[0;32m      4\u001b[0m \u001b[1;32mif\u001b[0m \u001b[0ma\u001b[0m \u001b[1;32mor\u001b[0m \u001b[0mb\u001b[0m \u001b[1;32mand\u001b[0m \u001b[0mc\u001b[0m\u001b[1;33m:\u001b[0m\u001b[1;33m\u001b[0m\u001b[1;33m\u001b[0m\u001b[0m\n\u001b[0;32m      5\u001b[0m     \u001b[0mprint\u001b[0m\u001b[1;33m(\u001b[0m\u001b[1;34m'gh'\u001b[0m\u001b[1;33m)\u001b[0m\u001b[1;33m\u001b[0m\u001b[1;33m\u001b[0m\u001b[0m\n",
      "\u001b[1;31mNameError\u001b[0m: name 'true' is not defined"
     ]
    }
   ],
   "source": [
    "a=true\n",
    "b=false\n",
    "c=false\n",
    "if a or b and c:\n",
    "    print('gh')\n",
    "else:\n",
    "    print('ji')\n",
    "        "
   ]
  },
  {
   "cell_type": "code",
   "execution_count": 20,
   "metadata": {},
   "outputs": [
    {
     "name": "stdout",
     "output_type": "stream",
     "text": [
      "4\n"
     ]
    }
   ],
   "source": [
    "for i in range(4,5):\n",
    "    print(i)"
   ]
  },
  {
   "cell_type": "code",
   "execution_count": 21,
   "metadata": {},
   "outputs": [
    {
     "name": "stdout",
     "output_type": "stream",
     "text": [
      "[True, 50, 5, 10]\n",
      "66\n"
     ]
    }
   ],
   "source": [
    "list=[True,50,10]\n",
    "list.insert(2,5)\n",
    "print(list)\n",
    "print(sum(list))"
   ]
  },
  {
   "cell_type": "code",
   "execution_count": 28,
   "metadata": {},
   "outputs": [
    {
     "name": "stdout",
     "output_type": "stream",
     "text": [
      "False\n"
     ]
    }
   ],
   "source": [
    "a=(4,5,6)\n",
    "b=(4,5,6)\n",
    "print(a>b)\n"
   ]
  },
  {
   "cell_type": "code",
   "execution_count": 35,
   "metadata": {},
   "outputs": [
    {
     "ename": "SyntaxError",
     "evalue": "illegal target for annotation (<ipython-input-35-ffca8990d0a4>, line 1)",
     "output_type": "error",
     "traceback": [
      "\u001b[1;36m  File \u001b[1;32m\"<ipython-input-35-ffca8990d0a4>\"\u001b[1;36m, line \u001b[1;32m1\u001b[0m\n\u001b[1;33m    x<-1:8;\u001b[0m\n\u001b[1;37m           ^\u001b[0m\n\u001b[1;31mSyntaxError\u001b[0m\u001b[1;31m:\u001b[0m illegal target for annotation\n"
     ]
    }
   ],
   "source": [
    "x<-1:8;\n",
    "for i in x:\n",
    "    if i==7:\n",
    "        next\n",
    "    print(i) \n"
   ]
  },
  {
   "cell_type": "code",
   "execution_count": 36,
   "metadata": {},
   "outputs": [
    {
     "ename": "TypeError",
     "evalue": "'list' object is not callable",
     "output_type": "error",
     "traceback": [
      "\u001b[1;31m---------------------------------------------------------------------------\u001b[0m",
      "\u001b[1;31mTypeError\u001b[0m                                 Traceback (most recent call last)",
      "\u001b[1;32m<ipython-input-36-dbbf56e3ede9>\u001b[0m in \u001b[0;36m<module>\u001b[1;34m\u001b[0m\n\u001b[1;32m----> 1\u001b[1;33m \u001b[0mx\u001b[0m\u001b[1;33m<\u001b[0m\u001b[1;33m-\u001b[0m\u001b[0mc\u001b[0m\u001b[1;33m(\u001b[0m\u001b[1;36m1\u001b[0m\u001b[1;33m,\u001b[0m\u001b[1;36m2\u001b[0m\u001b[1;33m,\u001b[0m\u001b[1;36m3\u001b[0m\u001b[1;33m,\u001b[0m\u001b[1;36m4\u001b[0m\u001b[1;33m)\u001b[0m\u001b[1;33m\u001b[0m\u001b[1;33m\u001b[0m\u001b[0m\n\u001b[0m\u001b[0;32m      2\u001b[0m \u001b[0mprint\u001b[0m\u001b[1;33m(\u001b[0m\u001b[0mtype\u001b[0m\u001b[1;33m(\u001b[0m\u001b[0mx\u001b[0m\u001b[1;33m)\u001b[0m\u001b[1;33m)\u001b[0m\u001b[1;33m\u001b[0m\u001b[1;33m\u001b[0m\u001b[0m\n",
      "\u001b[1;31mTypeError\u001b[0m: 'list' object is not callable"
     ]
    }
   ],
   "source": [
    "x<-c(1,2,3,4)\n",
    "print(type(x))"
   ]
  },
  {
   "cell_type": "code",
   "execution_count": null,
   "metadata": {},
   "outputs": [],
   "source": []
  }
 ],
 "metadata": {
  "kernelspec": {
   "display_name": "Python 3",
   "language": "python",
   "name": "python3"
  },
  "language_info": {
   "codemirror_mode": {
    "name": "ipython",
    "version": 3
   },
   "file_extension": ".py",
   "mimetype": "text/x-python",
   "name": "python",
   "nbconvert_exporter": "python",
   "pygments_lexer": "ipython3",
   "version": "3.7.4"
  }
 },
 "nbformat": 4,
 "nbformat_minor": 2
}
